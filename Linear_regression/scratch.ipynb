{
 "cells": [
  {
   "cell_type": "code",
   "execution_count": 144,
   "metadata": {},
   "outputs": [],
   "source": [
    "import numpy as np\n",
    "import pandas as pd\n",
    "import matplotlib.pyplot as plt"
   ]
  },
  {
   "cell_type": "code",
   "execution_count": 145,
   "metadata": {},
   "outputs": [
    {
     "data": {
      "text/html": [
       "<div>\n",
       "<style scoped>\n",
       "    .dataframe tbody tr th:only-of-type {\n",
       "        vertical-align: middle;\n",
       "    }\n",
       "\n",
       "    .dataframe tbody tr th {\n",
       "        vertical-align: top;\n",
       "    }\n",
       "\n",
       "    .dataframe thead th {\n",
       "        text-align: right;\n",
       "    }\n",
       "</style>\n",
       "<table border=\"1\" class=\"dataframe\">\n",
       "  <thead>\n",
       "    <tr style=\"text-align: right;\">\n",
       "      <th></th>\n",
       "      <th>Feature</th>\n",
       "      <th>Target</th>\n",
       "    </tr>\n",
       "  </thead>\n",
       "  <tbody>\n",
       "    <tr>\n",
       "      <th>0</th>\n",
       "      <td>7.948113</td>\n",
       "      <td>45.274387</td>\n",
       "    </tr>\n",
       "    <tr>\n",
       "      <th>1</th>\n",
       "      <td>5.026371</td>\n",
       "      <td>26.716516</td>\n",
       "    </tr>\n",
       "    <tr>\n",
       "      <th>2</th>\n",
       "      <td>5.769039</td>\n",
       "      <td>32.732833</td>\n",
       "    </tr>\n",
       "    <tr>\n",
       "      <th>3</th>\n",
       "      <td>4.925177</td>\n",
       "      <td>29.175153</td>\n",
       "    </tr>\n",
       "    <tr>\n",
       "      <th>4</th>\n",
       "      <td>1.952430</td>\n",
       "      <td>10.908288</td>\n",
       "    </tr>\n",
       "    <tr>\n",
       "      <th>...</th>\n",
       "      <td>...</td>\n",
       "      <td>...</td>\n",
       "    </tr>\n",
       "    <tr>\n",
       "      <th>95</th>\n",
       "      <td>7.378969</td>\n",
       "      <td>42.845558</td>\n",
       "    </tr>\n",
       "    <tr>\n",
       "      <th>96</th>\n",
       "      <td>5.543541</td>\n",
       "      <td>32.433022</td>\n",
       "    </tr>\n",
       "    <tr>\n",
       "      <th>97</th>\n",
       "      <td>6.117207</td>\n",
       "      <td>33.266160</td>\n",
       "    </tr>\n",
       "    <tr>\n",
       "      <th>98</th>\n",
       "      <td>4.196001</td>\n",
       "      <td>23.941971</td>\n",
       "    </tr>\n",
       "    <tr>\n",
       "      <th>99</th>\n",
       "      <td>2.477310</td>\n",
       "      <td>13.381491</td>\n",
       "    </tr>\n",
       "  </tbody>\n",
       "</table>\n",
       "<p>100 rows × 2 columns</p>\n",
       "</div>"
      ],
      "text/plain": [
       "     Feature     Target\n",
       "0   7.948113  45.274387\n",
       "1   5.026371  26.716516\n",
       "2   5.769039  32.732833\n",
       "3   4.925177  29.175153\n",
       "4   1.952430  10.908288\n",
       "..       ...        ...\n",
       "95  7.378969  42.845558\n",
       "96  5.543541  32.433022\n",
       "97  6.117207  33.266160\n",
       "98  4.196001  23.941971\n",
       "99  2.477310  13.381491\n",
       "\n",
       "[100 rows x 2 columns]"
      ]
     },
     "execution_count": 145,
     "metadata": {},
     "output_type": "execute_result"
    }
   ],
   "source": [
    "data = pd.read_csv(\"univariate_regression_data.csv\")\n",
    "data\n"
   ]
  },
  {
   "cell_type": "code",
   "execution_count": 146,
   "metadata": {},
   "outputs": [],
   "source": [
    "# Creating w and b and x\n",
    "X = data[\"Feature\"].values\n",
    "Y = data[\"Target\"].values\n",
    "w = 0\n",
    "b = 0\n",
    "m = X.shape[0]"
   ]
  },
  {
   "cell_type": "code",
   "execution_count": 147,
   "metadata": {},
   "outputs": [
    {
     "data": {
      "image/png": "[encoded data removed]",
      "text/plain": [
       "<Figure size 640x480 with 1 Axes>"
      ]
     },
     "metadata": {},
     "output_type": "display_data"
    }
   ],
   "source": [
    "plt.scatter(data[\"Feature\"],data[\"Target\"],c='red',marker=\"X\")\n",
    "plt.xlabel(\"Feature\")\n",
    "plt.ylabel(\"Target\")\n",
    "plt.title(\"Linear Regression\")\n",
    "plt.show()"
   ]
  },
  {
   "cell_type": "code",
   "execution_count": 148,
   "metadata": {},
   "outputs": [],
   "source": [
    "def cost_func(w,X,Y,b,m):\n",
    "    sumerr = 0\n",
    "    for i in range(m):\n",
    "        t_err = ((w*X[i]+b)- Y[i])**2\n",
    "        sumerr = sumerr + t_err\n",
    "    mse = (sumerr)/(2*m)\n",
    "    return mse"
   ]
  },
  {
   "cell_type": "code",
   "execution_count": 149,
   "metadata": {},
   "outputs": [],
   "source": [
    "def Der_gradient(w,b,X,Y,m):\n",
    "#This function is going to find the derivative for the gradient descent\n",
    "    dj_db = 0\n",
    "    dj_dw = 0\n",
    "    for i in range(m):\n",
    "        t1_err = ((w*X[i]+b)- Y[i])\n",
    "        t2_err = ((w*X[i]+b)- Y[i])*X[i]\n",
    "        dj_db  = dj_db + t1_err\n",
    "        dj_dw  = dj_dw + t2_err\n",
    "        \n",
    "    dj_db /= m\n",
    "    dj_dw /= m\n",
    "    return dj_db,dj_dw\n",
    "        \n",
    "    "
   ]
  },
  {
   "cell_type": "code",
   "execution_count": 150,
   "metadata": {},
   "outputs": [],
   "source": [
    "def gradient_descent(w,b,X,Y,n_iteration,alpha):\n",
    "    m = X.shape[0]\n",
    "    for i in range(n_iteration):\n",
    "        dj_db , dj_dw = Der_gradient(w,b,X,Y,m)\n",
    "        w = w - (alpha*dj_dw)\n",
    "        b = b - (alpha*dj_db)\n",
    "        if i % 100 == 0:\n",
    "            mse = cost_func(w,X,Y,b,m)\n",
    "            print(f\"COST {mse}\")\n",
    "    return w,b\n",
    "    \n",
    "    "
   ]
  },
  {
   "cell_type": "code",
   "execution_count": 151,
   "metadata": {},
   "outputs": [],
   "source": [
    "def predict(w, x_in, b, X, Y):\n",
    "    y_hat = w * x_in + b\n",
    "    return y_hat"
   ]
  },
  {
   "cell_type": "code",
   "execution_count": 153,
   "metadata": {},
   "outputs": [
    {
     "name": "stdout",
     "output_type": "stream",
     "text": [
      "COST 500.7036306852367\n",
      "COST 2.271044283472785\n",
      "COST 1.9818570982568022\n",
      "COST 1.9646670679382239\n",
      "COST 1.948365487290097\n",
      "COST 1.9327725652005965\n",
      "COST 1.9178574215072652\n",
      "COST 1.9035905951395038\n",
      "COST 1.8899439056544285\n",
      "COST 1.8768903975299491\n",
      "COST 1.8644042869210637\n",
      "COST 1.8524609107304895\n",
      "COST 1.841036677893078\n",
      "COST 1.8301090227777375\n",
      "COST 1.8196563606148295\n",
      "COST 1.8096580448610269\n",
      "COST 1.8000943264173634\n",
      "COST 1.790946314619989\n",
      "COST 1.78219593992652\n",
      "COST 1.7738259182243103\n",
      "COST 1.7658197166901308\n",
      "COST 1.7581615211338488\n",
      "COST 1.7508362047615451\n",
      "COST 1.743829298296442\n",
      "COST 1.7371269613985671\n",
      "COST 1.730715955326722\n",
      "COST 1.7245836167887618\n",
      "COST 1.7187178329285198\n",
      "COST 1.7131070173999752\n",
      "COST 1.7077400874814097\n",
      "COST 1.7026064421843525\n",
      "COST 1.6976959413140416\n",
      "COST 1.6929988854400906\n",
      "COST 1.6885059967377571\n",
      "COST 1.68420840066199\n",
      "COST 1.680097608418048\n",
      "COST 1.67616550019407\n",
      "COST 1.6724043091224812\n",
      "COST 1.6688066059385394\n",
      "COST 1.6653652843057447\n",
      "COST 1.6620735467790901\n",
      "COST 1.6589248913784653\n",
      "COST 1.655913098745669\n",
      "COST 1.6530322198596605\n",
      "COST 1.6502765642858115\n",
      "COST 1.6476406889359054\n",
      "COST 1.6451193873167325\n",
      "COST 1.6427076792459858\n",
      "COST 1.640400801015202\n",
      "COST 1.6381941959802884\n",
      "COST 1.6360835055610272\n",
      "COST 1.6340645606318407\n",
      "COST 1.6321333732867467\n",
      "COST 1.6302861289622785\n",
      "COST 1.6285191789028022\n",
      "COST 1.626829032953327\n",
      "COST 1.6252123526656188\n",
      "COST 1.623665944703938\n",
      "COST 1.6221867545374418\n",
      "COST 1.620771860406735\n",
      "COST 1.619418467552691\n",
      "COST 1.6181239026961238\n",
      "COST 1.6168856087574113\n",
      "COST 1.6157011398056453\n",
      "COST 1.6145681562273213\n",
      "COST 1.6134844201050391\n",
      "COST 1.6124477907970687\n",
      "COST 1.6114562207090657\n",
      "COST 1.6105077512495753\n",
      "COST 1.6096005089613408\n",
      "COST 1.608732701820767\n",
      "COST 1.6079026156982443\n",
      "COST 1.6071086109723174\n",
      "COST 1.6063491192910513\n",
      "COST 1.6056226404741407\n",
      "COST 1.6049277395496937\n",
      "COST 1.6042630439198193\n",
      "COST 1.6036272406494112\n",
      "COST 1.6030190738727776\n",
      "COST 1.6024373423130112\n",
      "COST 1.6018808969091638\n",
      "COST 1.6013486385465874\n",
      "COST 1.600839515885898\n",
      "COST 1.6003525232863436\n",
      "COST 1.5998866988194056\n",
      "COST 1.5994411223687661\n",
      "COST 1.5990149138128473\n",
      "COST 1.5986072312863626\n",
      "COST 1.5982172695174333\n",
      "COST 1.5978442582369643\n",
      "COST 1.5974874606571985\n",
      "COST 1.5971461720163598\n",
      "COST 1.5968197181865995\n",
      "COST 1.596507454342411\n",
      "COST 1.596208763686956\n",
      "COST 1.5959230562337348\n",
      "COST 1.5956497676412196\n",
      "COST 1.59538835809815\n",
      "COST 1.5951383112572657\n",
      "COST 1.5948991332154001\n"
     ]
    },
    {
     "data": {
      "image/png": "[encoded data removed]",
      "text/plain": [
       "<Figure size 640x480 with 1 Axes>"
      ]
     },
     "metadata": {},
     "output_type": "display_data"
    }
   ],
   "source": [
    "w, b = gradient_descent(w, b, X, Y, 10000, 0.001)\n",
    "x_line = np.linspace(X.min(),X.max(),100)\n",
    "y_line = w * x_line + b\n",
    "plt.scatter(data[\"Feature\"],data[\"Target\"],c='red',marker=\"X\")\n",
    "plt.plot(x_line,y_line,c='blue')\n",
    "plt.xlabel(\"Feature\")\n",
    "plt.ylabel(\"Target\")\n",
    "plt.title(\"Linear Regression\")\n",
    "plt.show()"
   ]
  },
  {
   "cell_type": "code",
   "execution_count": 154,
   "metadata": {},
   "outputs": [],
   "source": [
    "x_in = int(input(\"Enter the x value to predict for: \"))\n",
    "val = predict(w,x_in,b,X,Y)\n"
   ]
  },
  {
   "cell_type": "code",
   "execution_count": 155,
   "metadata": {},
   "outputs": [
    {
     "name": "stdout",
     "output_type": "stream",
     "text": [
      "The predicted output is 7.60604000532213\n"
     ]
    }
   ],
   "source": [
    "print(f\"The predicted output is {val}\")"
   ]
  }
 ],
 "metadata": {
  "kernelspec": {
   "display_name": "Python 3",
   "language": "python",
   "name": "python3"
  },
  "language_info": {
   "codemirror_mode": {
    "name": "ipython",
    "version": 3
   },
   "file_extension": ".py",
   "mimetype": "text/x-python",
   "name": "python",
   "nbconvert_exporter": "python",
   "pygments_lexer": "ipython3",
   "version": "3.12.3"
  }
 },
 "nbformat": 4,
 "nbformat_minor": 2
}
