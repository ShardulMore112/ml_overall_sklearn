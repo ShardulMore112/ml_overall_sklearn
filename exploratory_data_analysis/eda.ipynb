{
 "cells": [
  {
   "cell_type": "markdown",
   "id": "d3fbcf84",
   "metadata": {},
   "source": [
    "# Steps in machine learning\n",
    "\n",
    "-  Business Understanding\n",
    "-  Data Understading\n",
    "-  Data preparation and preprocessing\n",
    "-  Modeling\n",
    "-  Model Evaluation \n",
    "-  Deployment\n"
   ]
  },
  {
   "cell_type": "markdown",
   "id": "7de639cb",
   "metadata": {},
   "source": [
    "# Data Understanding"
   ]
  },
  {
   "cell_type": "code",
   "execution_count": 55,
   "id": "20b28119",
   "metadata": {},
   "outputs": [],
   "source": [
    "import pandas as pd"
   ]
  },
  {
   "cell_type": "code",
   "execution_count": 56,
   "id": "4be91e77",
   "metadata": {},
   "outputs": [],
   "source": [
    "df = pd.read_csv(\"regression.csv\")"
   ]
  },
  {
   "cell_type": "code",
   "execution_count": 57,
   "id": "ca7220a3",
   "metadata": {},
   "outputs": [
    {
     "data": {
      "text/html": [
       "<div>\n",
       "<style scoped>\n",
       "    .dataframe tbody tr th:only-of-type {\n",
       "        vertical-align: middle;\n",
       "    }\n",
       "\n",
       "    .dataframe tbody tr th {\n",
       "        vertical-align: top;\n",
       "    }\n",
       "\n",
       "    .dataframe thead th {\n",
       "        text-align: right;\n",
       "    }\n",
       "</style>\n",
       "<table border=\"1\" class=\"dataframe\">\n",
       "  <thead>\n",
       "    <tr style=\"text-align: right;\">\n",
       "      <th></th>\n",
       "      <th>Year</th>\n",
       "      <th>Month</th>\n",
       "      <th>Cost Centre</th>\n",
       "      <th>Account</th>\n",
       "      <th>Account Description</th>\n",
       "      <th>Account Type</th>\n",
       "      <th>Amount</th>\n",
       "    </tr>\n",
       "  </thead>\n",
       "  <tbody>\n",
       "    <tr>\n",
       "      <th>0</th>\n",
       "      <td>2019</td>\n",
       "      <td>Jan</td>\n",
       "      <td>CC100</td>\n",
       "      <td>1000000</td>\n",
       "      <td>Product Sales</td>\n",
       "      <td>Revenue</td>\n",
       "      <td>1344.051</td>\n",
       "    </tr>\n",
       "    <tr>\n",
       "      <th>1</th>\n",
       "      <td>2019</td>\n",
       "      <td>Jan</td>\n",
       "      <td>CC100</td>\n",
       "      <td>1000001</td>\n",
       "      <td>Licensing Revenue</td>\n",
       "      <td>Revenue</td>\n",
       "      <td>480.968</td>\n",
       "    </tr>\n",
       "    <tr>\n",
       "      <th>2</th>\n",
       "      <td>2019</td>\n",
       "      <td>Jan</td>\n",
       "      <td>CC100</td>\n",
       "      <td>1000002</td>\n",
       "      <td>Service Revenue</td>\n",
       "      <td>Revenue</td>\n",
       "      <td>650.820</td>\n",
       "    </tr>\n",
       "    <tr>\n",
       "      <th>3</th>\n",
       "      <td>2019</td>\n",
       "      <td>Jan</td>\n",
       "      <td>CC100</td>\n",
       "      <td>1000004</td>\n",
       "      <td>Fee Revenue</td>\n",
       "      <td>Revenue</td>\n",
       "      <td>339.360</td>\n",
       "    </tr>\n",
       "    <tr>\n",
       "      <th>4</th>\n",
       "      <td>2019</td>\n",
       "      <td>Jan</td>\n",
       "      <td>CC100</td>\n",
       "      <td>2000000</td>\n",
       "      <td>Cost of Good Sold</td>\n",
       "      <td>Expense</td>\n",
       "      <td>1125.328</td>\n",
       "    </tr>\n",
       "  </tbody>\n",
       "</table>\n",
       "</div>"
      ],
      "text/plain": [
       "   Year Month Cost Centre  Account Account Description Account Type    Amount\n",
       "0  2019   Jan       CC100  1000000       Product Sales      Revenue  1344.051\n",
       "1  2019   Jan       CC100  1000001   Licensing Revenue      Revenue   480.968\n",
       "2  2019   Jan       CC100  1000002     Service Revenue      Revenue   650.820\n",
       "3  2019   Jan       CC100  1000004         Fee Revenue      Revenue   339.360\n",
       "4  2019   Jan       CC100  2000000   Cost of Good Sold      Expense  1125.328"
      ]
     },
     "execution_count": 57,
     "metadata": {},
     "output_type": "execute_result"
    }
   ],
   "source": [
    "df.head()"
   ]
  },
  {
   "cell_type": "code",
   "execution_count": 58,
   "id": "a0226cf9",
   "metadata": {},
   "outputs": [
    {
     "data": {
      "text/html": [
       "<div>\n",
       "<style scoped>\n",
       "    .dataframe tbody tr th:only-of-type {\n",
       "        vertical-align: middle;\n",
       "    }\n",
       "\n",
       "    .dataframe tbody tr th {\n",
       "        vertical-align: top;\n",
       "    }\n",
       "\n",
       "    .dataframe thead th {\n",
       "        text-align: right;\n",
       "    }\n",
       "</style>\n",
       "<table border=\"1\" class=\"dataframe\">\n",
       "  <thead>\n",
       "    <tr style=\"text-align: right;\">\n",
       "      <th></th>\n",
       "      <th>Year</th>\n",
       "      <th>Month</th>\n",
       "      <th>Cost Centre</th>\n",
       "      <th>Account</th>\n",
       "      <th>Account Description</th>\n",
       "      <th>Account Type</th>\n",
       "      <th>Amount</th>\n",
       "    </tr>\n",
       "  </thead>\n",
       "  <tbody>\n",
       "    <tr>\n",
       "      <th>4207</th>\n",
       "      <td>2021</td>\n",
       "      <td>Dec</td>\n",
       "      <td>CC302</td>\n",
       "      <td>2000005</td>\n",
       "      <td>Purchases</td>\n",
       "      <td>Expense</td>\n",
       "      <td>698.121</td>\n",
       "    </tr>\n",
       "    <tr>\n",
       "      <th>4208</th>\n",
       "      <td>2021</td>\n",
       "      <td>Dec</td>\n",
       "      <td>CC302</td>\n",
       "      <td>3000000</td>\n",
       "      <td>Cash at Bank</td>\n",
       "      <td>Asset</td>\n",
       "      <td>-282.056</td>\n",
       "    </tr>\n",
       "    <tr>\n",
       "      <th>4209</th>\n",
       "      <td>2021</td>\n",
       "      <td>Dec</td>\n",
       "      <td>CC302</td>\n",
       "      <td>3000001</td>\n",
       "      <td>Inventory</td>\n",
       "      <td>Asset</td>\n",
       "      <td>537.478</td>\n",
       "    </tr>\n",
       "    <tr>\n",
       "      <th>4210</th>\n",
       "      <td>2021</td>\n",
       "      <td>Dec</td>\n",
       "      <td>CC302</td>\n",
       "      <td>3000002</td>\n",
       "      <td>Accounts Receivable</td>\n",
       "      <td>Asset</td>\n",
       "      <td>1152.680</td>\n",
       "    </tr>\n",
       "    <tr>\n",
       "      <th>4211</th>\n",
       "      <td>2021</td>\n",
       "      <td>Dec</td>\n",
       "      <td>CC302</td>\n",
       "      <td>4000001</td>\n",
       "      <td>Accounts Payable</td>\n",
       "      <td>Liability</td>\n",
       "      <td>-1020.000</td>\n",
       "    </tr>\n",
       "  </tbody>\n",
       "</table>\n",
       "</div>"
      ],
      "text/plain": [
       "      Year Month Cost Centre  Account  Account Description Account Type  \\\n",
       "4207  2021   Dec       CC302  2000005            Purchases      Expense   \n",
       "4208  2021   Dec       CC302  3000000         Cash at Bank        Asset   \n",
       "4209  2021   Dec       CC302  3000001            Inventory        Asset   \n",
       "4210  2021   Dec       CC302  3000002  Accounts Receivable        Asset   \n",
       "4211  2021   Dec       CC302  4000001     Accounts Payable    Liability   \n",
       "\n",
       "        Amount  \n",
       "4207   698.121  \n",
       "4208  -282.056  \n",
       "4209   537.478  \n",
       "4210  1152.680  \n",
       "4211 -1020.000  "
      ]
     },
     "execution_count": 58,
     "metadata": {},
     "output_type": "execute_result"
    }
   ],
   "source": [
    "df.tail()"
   ]
  },
  {
   "cell_type": "code",
   "execution_count": 59,
   "id": "e587ae44",
   "metadata": {},
   "outputs": [
    {
     "name": "stdout",
     "output_type": "stream",
     "text": [
      "<class 'pandas.core.frame.DataFrame'>\n",
      "RangeIndex: 4212 entries, 0 to 4211\n",
      "Data columns (total 7 columns):\n",
      " #   Column               Non-Null Count  Dtype  \n",
      "---  ------               --------------  -----  \n",
      " 0   Year                 4212 non-null   int64  \n",
      " 1   Month                4212 non-null   object \n",
      " 2   Cost Centre          4212 non-null   object \n",
      " 3   Account              4212 non-null   int64  \n",
      " 4   Account Description  4212 non-null   object \n",
      " 5   Account Type         4212 non-null   object \n",
      " 6   Amount               4212 non-null   float64\n",
      "dtypes: float64(1), int64(2), object(4)\n",
      "memory usage: 230.5+ KB\n"
     ]
    }
   ],
   "source": [
    "df.info()"
   ]
  },
  {
   "cell_type": "code",
   "execution_count": 60,
   "id": "e1c7d824",
   "metadata": {},
   "outputs": [
    {
     "data": {
      "text/plain": [
       "Index(['Year', 'Month', 'Cost Centre', 'Account', 'Account Description',\n",
       "       'Account Type', 'Amount'],\n",
       "      dtype='object')"
      ]
     },
     "execution_count": 60,
     "metadata": {},
     "output_type": "execute_result"
    }
   ],
   "source": [
    "df.columns"
   ]
  },
  {
   "cell_type": "code",
   "execution_count": 61,
   "id": "5b892cbf",
   "metadata": {},
   "outputs": [
    {
     "data": {
      "text/plain": [
       "array([1000000, 1000001, 1000002, 1000004, 2000000, 2000001, 2000002,\n",
       "       2000003, 2000005, 3000000, 3000001, 3000002, 4000001], dtype=int64)"
      ]
     },
     "execution_count": 61,
     "metadata": {},
     "output_type": "execute_result"
    }
   ],
   "source": [
    "df[\"Account\"].unique()"
   ]
  },
  {
   "cell_type": "code",
   "execution_count": 62,
   "id": "5606bc2b",
   "metadata": {},
   "outputs": [
    {
     "name": "stdout",
     "output_type": "stream",
     "text": [
      "Year 3 [2019 2020 2021]\n",
      "Month 12 ['Jan' 'Feb' 'Mar' 'Apr' 'May' 'Jun' 'Jul' 'Aug' 'Sep' 'Oct' 'Nov' 'Dec']\n",
      "Cost Centre 9 ['CC100' 'CC101' 'CC102' 'CC200' 'CC201' 'CC202' 'CC300' 'CC301' 'CC302']\n",
      "Account 13 [1000000 1000001 1000002 1000004 2000000 2000001 2000002 2000003 2000005\n",
      " 3000000 3000001 3000002 4000001]\n",
      "Account Description 13 ['Product Sales' 'Licensing Revenue' 'Service Revenue' 'Fee Revenue'\n",
      " 'Cost of Good Sold' 'Staff Expenses' 'Technology Expenses'\n",
      " 'Property Expenses' 'Purchases' 'Cash at Bank' 'Inventory'\n",
      " 'Accounts Receivable' 'Accounts Payable']\n",
      "Account Type 4 ['Revenue' 'Expense' 'Asset' 'Liability']\n",
      "Amount 3956 [1344.051  480.968  650.82  ... -282.056  537.478 1152.68 ]\n"
     ]
    }
   ],
   "source": [
    "for  col in df.columns:\n",
    "    print(col,len(df[col].unique()),df[col].unique())\n",
    "    "
   ]
  },
  {
   "cell_type": "code",
   "execution_count": 63,
   "id": "f9c80b05",
   "metadata": {},
   "outputs": [
    {
     "data": {
      "text/html": [
       "<div>\n",
       "<style scoped>\n",
       "    .dataframe tbody tr th:only-of-type {\n",
       "        vertical-align: middle;\n",
       "    }\n",
       "\n",
       "    .dataframe tbody tr th {\n",
       "        vertical-align: top;\n",
       "    }\n",
       "\n",
       "    .dataframe thead th {\n",
       "        text-align: right;\n",
       "    }\n",
       "</style>\n",
       "<table border=\"1\" class=\"dataframe\">\n",
       "  <thead>\n",
       "    <tr style=\"text-align: right;\">\n",
       "      <th></th>\n",
       "      <th>Year</th>\n",
       "      <th>Account</th>\n",
       "      <th>Amount</th>\n",
       "    </tr>\n",
       "  </thead>\n",
       "  <tbody>\n",
       "    <tr>\n",
       "      <th>count</th>\n",
       "      <td>4212.000000</td>\n",
       "      <td>4.212000e+03</td>\n",
       "      <td>4212.000000</td>\n",
       "    </tr>\n",
       "    <tr>\n",
       "      <th>mean</th>\n",
       "      <td>2020.000000</td>\n",
       "      <td>2.076925e+06</td>\n",
       "      <td>476.470421</td>\n",
       "    </tr>\n",
       "    <tr>\n",
       "      <th>std</th>\n",
       "      <td>0.816594</td>\n",
       "      <td>9.167528e+05</td>\n",
       "      <td>477.296234</td>\n",
       "    </tr>\n",
       "    <tr>\n",
       "      <th>min</th>\n",
       "      <td>2019.000000</td>\n",
       "      <td>1.000000e+06</td>\n",
       "      <td>-1020.000000</td>\n",
       "    </tr>\n",
       "    <tr>\n",
       "      <th>25%</th>\n",
       "      <td>2019.000000</td>\n",
       "      <td>1.000004e+06</td>\n",
       "      <td>268.044500</td>\n",
       "    </tr>\n",
       "    <tr>\n",
       "      <th>50%</th>\n",
       "      <td>2020.000000</td>\n",
       "      <td>2.000002e+06</td>\n",
       "      <td>512.998500</td>\n",
       "    </tr>\n",
       "    <tr>\n",
       "      <th>75%</th>\n",
       "      <td>2021.000000</td>\n",
       "      <td>3.000000e+06</td>\n",
       "      <td>755.960250</td>\n",
       "    </tr>\n",
       "    <tr>\n",
       "      <th>max</th>\n",
       "      <td>2021.000000</td>\n",
       "      <td>4.000001e+06</td>\n",
       "      <td>2378.880000</td>\n",
       "    </tr>\n",
       "  </tbody>\n",
       "</table>\n",
       "</div>"
      ],
      "text/plain": [
       "              Year       Account       Amount\n",
       "count  4212.000000  4.212000e+03  4212.000000\n",
       "mean   2020.000000  2.076925e+06   476.470421\n",
       "std       0.816594  9.167528e+05   477.296234\n",
       "min    2019.000000  1.000000e+06 -1020.000000\n",
       "25%    2019.000000  1.000004e+06   268.044500\n",
       "50%    2020.000000  2.000002e+06   512.998500\n",
       "75%    2021.000000  3.000000e+06   755.960250\n",
       "max    2021.000000  4.000001e+06  2378.880000"
      ]
     },
     "execution_count": 63,
     "metadata": {},
     "output_type": "execute_result"
    }
   ],
   "source": [
    "df.describe()"
   ]
  },
  {
   "cell_type": "code",
   "execution_count": 64,
   "id": "a1397371",
   "metadata": {},
   "outputs": [
    {
     "data": {
      "text/plain": [
       "Year                     int64\n",
       "Month                   object\n",
       "Cost Centre             object\n",
       "Account                  int64\n",
       "Account Description     object\n",
       "Account Type            object\n",
       "Amount                 float64\n",
       "dtype: object"
      ]
     },
     "execution_count": 64,
     "metadata": {},
     "output_type": "execute_result"
    }
   ],
   "source": [
    "df.dtypes"
   ]
  },
  {
   "cell_type": "markdown",
   "id": "bbcd8759",
   "metadata": {},
   "source": [
    "##### VISUALIZATION OF THE DATA"
   ]
  },
  {
   "cell_type": "code",
   "execution_count": 65,
   "id": "c7ecad89",
   "metadata": {},
   "outputs": [],
   "source": [
    "import matplotlib.pyplot as plt\n",
    "import seaborn as sns"
   ]
  },
  {
   "cell_type": "code",
   "execution_count": 76,
   "id": "bc48cc49",
   "metadata": {},
   "outputs": [
    {
     "name": "stderr",
     "output_type": "stream",
     "text": [
      "C:\\Users\\Shardul More\\AppData\\Local\\Temp\\ipykernel_7060\\2209404724.py:2: FutureWarning: \n",
      "\n",
      "Passing `palette` without assigning `hue` is deprecated and will be removed in v0.14.0. Assign the `x` variable to `hue` and set `legend=False` for the same effect.\n",
      "\n",
      "  sns.violinplot(x='Account Type' , y = 'Amount' , data = df , palette= 'pastel').set_title(\"violin plot of the data\")\n"
     ]
    },
    {
     "data": {
      "image/png": "[encoded data removed]",
      "text/plain": [
       "<Figure size 2000x900 with 1 Axes>"
      ]
     },
     "metadata": {},
     "output_type": "display_data"
    }
   ],
   "source": [
    "plt.figure(figsize=(20,9))\n",
    "sns.violinplot(x='Account Type' , y = 'Amount' , data = df , palette= 'pastel').set_title(\"violin plot of the data\")\n",
    "plt.show()"
   ]
  },
  {
   "cell_type": "markdown",
   "id": "da0cec9e",
   "metadata": {},
   "source": [
    "#### Review trends"
   ]
  },
  {
   "cell_type": "code",
   "execution_count": 78,
   "id": "e819b500",
   "metadata": {},
   "outputs": [
    {
     "data": {
      "text/html": [
       "<div>\n",
       "<style scoped>\n",
       "    .dataframe tbody tr th:only-of-type {\n",
       "        vertical-align: middle;\n",
       "    }\n",
       "\n",
       "    .dataframe tbody tr th {\n",
       "        vertical-align: top;\n",
       "    }\n",
       "\n",
       "    .dataframe thead th {\n",
       "        text-align: right;\n",
       "    }\n",
       "</style>\n",
       "<table border=\"1\" class=\"dataframe\">\n",
       "  <thead>\n",
       "    <tr style=\"text-align: right;\">\n",
       "      <th></th>\n",
       "      <th>Year</th>\n",
       "      <th>Month</th>\n",
       "      <th>Cost Centre</th>\n",
       "      <th>Account</th>\n",
       "      <th>Account Description</th>\n",
       "      <th>Account Type</th>\n",
       "      <th>Amount</th>\n",
       "    </tr>\n",
       "  </thead>\n",
       "  <tbody>\n",
       "    <tr>\n",
       "      <th>0</th>\n",
       "      <td>2019</td>\n",
       "      <td>Jan</td>\n",
       "      <td>CC100</td>\n",
       "      <td>1000000</td>\n",
       "      <td>Product Sales</td>\n",
       "      <td>Revenue</td>\n",
       "      <td>1344.051</td>\n",
       "    </tr>\n",
       "    <tr>\n",
       "      <th>1</th>\n",
       "      <td>2019</td>\n",
       "      <td>Jan</td>\n",
       "      <td>CC100</td>\n",
       "      <td>1000001</td>\n",
       "      <td>Licensing Revenue</td>\n",
       "      <td>Revenue</td>\n",
       "      <td>480.968</td>\n",
       "    </tr>\n",
       "    <tr>\n",
       "      <th>2</th>\n",
       "      <td>2019</td>\n",
       "      <td>Jan</td>\n",
       "      <td>CC100</td>\n",
       "      <td>1000002</td>\n",
       "      <td>Service Revenue</td>\n",
       "      <td>Revenue</td>\n",
       "      <td>650.820</td>\n",
       "    </tr>\n",
       "    <tr>\n",
       "      <th>3</th>\n",
       "      <td>2019</td>\n",
       "      <td>Jan</td>\n",
       "      <td>CC100</td>\n",
       "      <td>1000004</td>\n",
       "      <td>Fee Revenue</td>\n",
       "      <td>Revenue</td>\n",
       "      <td>339.360</td>\n",
       "    </tr>\n",
       "    <tr>\n",
       "      <th>4</th>\n",
       "      <td>2019</td>\n",
       "      <td>Jan</td>\n",
       "      <td>CC100</td>\n",
       "      <td>2000000</td>\n",
       "      <td>Cost of Good Sold</td>\n",
       "      <td>Expense</td>\n",
       "      <td>1125.328</td>\n",
       "    </tr>\n",
       "  </tbody>\n",
       "</table>\n",
       "</div>"
      ],
      "text/plain": [
       "   Year Month Cost Centre  Account Account Description Account Type    Amount\n",
       "0  2019   Jan       CC100  1000000       Product Sales      Revenue  1344.051\n",
       "1  2019   Jan       CC100  1000001   Licensing Revenue      Revenue   480.968\n",
       "2  2019   Jan       CC100  1000002     Service Revenue      Revenue   650.820\n",
       "3  2019   Jan       CC100  1000004         Fee Revenue      Revenue   339.360\n",
       "4  2019   Jan       CC100  2000000   Cost of Good Sold      Expense  1125.328"
      ]
     },
     "execution_count": 78,
     "metadata": {},
     "output_type": "execute_result"
    }
   ],
   "source": [
    "df.head()"
   ]
  },
  {
   "cell_type": "code",
   "execution_count": 79,
   "id": "ee433b44",
   "metadata": {},
   "outputs": [],
   "source": [
    "monthmap = {\n",
    "    'Jan': 1,\n",
    "    'Feb': 2,\n",
    "    'Mar': 3,\n",
    "    'Apr': 4,\n",
    "    'May': 5,\n",
    "    'Jun': 6,\n",
    "    'Jul': 7,\n",
    "    'Aug': 8,\n",
    "    'Sep': 9,\n",
    "    'Oct': 10,\n",
    "    'Nov': 11,\n",
    "    'Dec': 12\n",
    "}\n"
   ]
  },
  {
   "cell_type": "code",
   "execution_count": 81,
   "id": "929b38b0",
   "metadata": {},
   "outputs": [
    {
     "data": {
      "text/plain": [
       "1"
      ]
     },
     "execution_count": 81,
     "metadata": {},
     "output_type": "execute_result"
    }
   ],
   "source": [
    "monthmap['Jan']"
   ]
  },
  {
   "cell_type": "code",
   "execution_count": null,
   "id": "3a918825",
   "metadata": {},
   "outputs": [],
   "source": [
    "df[\"Period\"] = df[\"Month\"]"
   ]
  }
 ],
 "metadata": {
  "kernelspec": {
   "display_name": "Python 3",
   "language": "python",
   "name": "python3"
  },
  "language_info": {
   "codemirror_mode": {
    "name": "ipython",
    "version": 3
   },
   "file_extension": ".py",
   "mimetype": "text/x-python",
   "name": "python",
   "nbconvert_exporter": "python",
   "pygments_lexer": "ipython3",
   "version": "3.11.9"
  }
 },
 "nbformat": 4,
 "nbformat_minor": 5
}
